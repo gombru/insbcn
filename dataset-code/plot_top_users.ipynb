{
 "cells": [
  {
   "cell_type": "code",
   "execution_count": null,
   "metadata": {},
   "outputs": [],
   "source": [
    "from load_jsons import *data = load()print \"Number of jsons: \" + str(len(data))users = {}for k, v in data.iteritems():if v['owner'] not in users:users[v['owner']] = 1else:users[v['owner']] = users[v['owner']] + 1print \"Done\""
   ]
  }
 ],
 "metadata": {
  "language": "python"
 },
 "nbformat": 4,
 "nbformat_minor": 2
}
